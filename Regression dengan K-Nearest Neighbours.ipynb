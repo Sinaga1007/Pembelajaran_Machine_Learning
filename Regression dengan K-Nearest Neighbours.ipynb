{
 "cells": [
  {
   "cell_type": "code",
   "execution_count": 1,
   "id": "be73b70a",
   "metadata": {},
   "outputs": [
    {
     "data": {
      "text/html": [
       "<div>\n",
       "<style scoped>\n",
       "    .dataframe tbody tr th:only-of-type {\n",
       "        vertical-align: middle;\n",
       "    }\n",
       "\n",
       "    .dataframe tbody tr th {\n",
       "        vertical-align: top;\n",
       "    }\n",
       "\n",
       "    .dataframe thead th {\n",
       "        text-align: right;\n",
       "    }\n",
       "</style>\n",
       "<table border=\"1\" class=\"dataframe\">\n",
       "  <thead>\n",
       "    <tr style=\"text-align: right;\">\n",
       "      <th></th>\n",
       "      <th>Tinggi</th>\n",
       "      <th>Berat</th>\n",
       "      <th>JK</th>\n",
       "    </tr>\n",
       "  </thead>\n",
       "  <tbody>\n",
       "    <tr>\n",
       "      <th>0</th>\n",
       "      <td>155</td>\n",
       "      <td>40</td>\n",
       "      <td>Pria</td>\n",
       "    </tr>\n",
       "    <tr>\n",
       "      <th>1</th>\n",
       "      <td>163</td>\n",
       "      <td>55</td>\n",
       "      <td>Pria</td>\n",
       "    </tr>\n",
       "    <tr>\n",
       "      <th>2</th>\n",
       "      <td>170</td>\n",
       "      <td>70</td>\n",
       "      <td>Pria</td>\n",
       "    </tr>\n",
       "    <tr>\n",
       "      <th>3</th>\n",
       "      <td>180</td>\n",
       "      <td>80</td>\n",
       "      <td>Pria</td>\n",
       "    </tr>\n",
       "    <tr>\n",
       "      <th>4</th>\n",
       "      <td>190</td>\n",
       "      <td>35</td>\n",
       "      <td>Wanita</td>\n",
       "    </tr>\n",
       "    <tr>\n",
       "      <th>5</th>\n",
       "      <td>165</td>\n",
       "      <td>48</td>\n",
       "      <td>Wanita</td>\n",
       "    </tr>\n",
       "    <tr>\n",
       "      <th>6</th>\n",
       "      <td>175</td>\n",
       "      <td>60</td>\n",
       "      <td>Wanita</td>\n",
       "    </tr>\n",
       "    <tr>\n",
       "      <th>7</th>\n",
       "      <td>185</td>\n",
       "      <td>65</td>\n",
       "      <td>Wanita</td>\n",
       "    </tr>\n",
       "    <tr>\n",
       "      <th>8</th>\n",
       "      <td>158</td>\n",
       "      <td>50</td>\n",
       "      <td>Wanita</td>\n",
       "    </tr>\n",
       "  </tbody>\n",
       "</table>\n",
       "</div>"
      ],
      "text/plain": [
       "   Tinggi  Berat      JK\n",
       "0     155     40    Pria\n",
       "1     163     55    Pria\n",
       "2     170     70    Pria\n",
       "3     180     80    Pria\n",
       "4     190     35  Wanita\n",
       "5     165     48  Wanita\n",
       "6     175     60  Wanita\n",
       "7     185     65  Wanita\n",
       "8     158     50  Wanita"
      ]
     },
     "execution_count": 1,
     "metadata": {},
     "output_type": "execute_result"
    }
   ],
   "source": [
    "#Sample Dataset\n",
    "\n",
    "import pandas as pd\n",
    "\n",
    "sensus = {\n",
    "    'Tinggi': [155, 163, 170, 180, 190, 165, 175, 185, 158],\n",
    "    'Berat': [40, 55, 70, 80, 35, 48, 60, 65, 50],\n",
    "    'JK': [\n",
    "        'Pria', 'Pria', 'Pria', 'Pria', 'Wanita', 'Wanita', 'Wanita', 'Wanita', 'Wanita'\n",
    "    ]\n",
    "}\n",
    "\n",
    "sensus_df = pd.DataFrame(sensus)\n",
    "sensus_df"
   ]
  },
  {
   "cell_type": "code",
   "execution_count": 2,
   "id": "4f5055f0",
   "metadata": {},
   "outputs": [
    {
     "name": "stdout",
     "output_type": "stream",
     "text": [
      "X_train:\n",
      "[[155 'Pria']\n",
      " [163 'Pria']\n",
      " [170 'Pria']\n",
      " [180 'Pria']\n",
      " [190 'Wanita']\n",
      " [165 'Wanita']\n",
      " [175 'Wanita']\n",
      " [185 'Wanita']\n",
      " [158 'Wanita']]\n",
      "\n",
      "y_train: [40 55 70 80 35 48 60 65 50]\n"
     ]
    }
   ],
   "source": [
    "#Feature & Target\n",
    "\n",
    "import numpy as np\n",
    "\n",
    "X_train = np.array(sensus_df[['Tinggi','JK']])\n",
    "y_train = np.array(sensus_df['Berat'])\n",
    "\n",
    "print(f'X_train:\\n{X_train}\\n')\n",
    "print(f'y_train: {y_train}')"
   ]
  },
  {
   "cell_type": "code",
   "execution_count": 3,
   "id": "6c80c3e2",
   "metadata": {},
   "outputs": [
    {
     "name": "stdout",
     "output_type": "stream",
     "text": [
      "X_train:\n",
      "[[155 'Pria']\n",
      " [163 'Pria']\n",
      " [170 'Pria']\n",
      " [180 'Pria']\n",
      " [190 'Wanita']\n",
      " [165 'Wanita']\n",
      " [175 'Wanita']\n",
      " [185 'Wanita']\n",
      " [158 'Wanita']]\n",
      "\n",
      "X_train_transposed:\n",
      "[[155 163 170 180 190 165 175 185 158]\n",
      " ['Pria' 'Pria' 'Pria' 'Pria' 'Wanita' 'Wanita' 'Wanita' 'Wanita'\n",
      "  'Wanita']]\n"
     ]
    }
   ],
   "source": [
    "#Preprocess Dataset: Konversi Label menjadi Numerik Biner\n",
    "\n",
    "X_train_transposed = np.transpose(X_train) #proses transpose ini akan mengubah posisi baris menjadi kolom & sebaliknya\n",
    "\n",
    "print(f'X_train:\\n{X_train}\\n')\n",
    "print(f'X_train_transposed:\\n{X_train_transposed}')"
   ]
  },
  {
   "cell_type": "code",
   "execution_count": 4,
   "id": "d8ba100c",
   "metadata": {},
   "outputs": [
    {
     "name": "stdout",
     "output_type": "stream",
     "text": [
      "JK: ['Pria' 'Pria' 'Pria' 'Pria' 'Wanita' 'Wanita' 'Wanita' 'Wanita' 'Wanita']\n",
      "\n",
      "JK_binarised:\n",
      "[[0]\n",
      " [0]\n",
      " [0]\n",
      " [0]\n",
      " [1]\n",
      " [1]\n",
      " [1]\n",
      " [1]\n",
      " [1]]\n"
     ]
    }
   ],
   "source": [
    "from sklearn.preprocessing import LabelBinarizer\n",
    "\n",
    "lb = LabelBinarizer()\n",
    "jk_binarised = lb.fit_transform(X_train_transposed[1])\n",
    "\n",
    "print(f'JK: {X_train_transposed[1]}\\n')\n",
    "print(f'JK_binarised:\\n{jk_binarised}')"
   ]
  },
  {
   "cell_type": "code",
   "execution_count": 5,
   "id": "92fe6625",
   "metadata": {},
   "outputs": [
    {
     "data": {
      "text/plain": [
       "array([0, 0, 0, 0, 1, 1, 1, 1, 1])"
      ]
     },
     "execution_count": 5,
     "metadata": {},
     "output_type": "execute_result"
    }
   ],
   "source": [
    "jk_binarised = jk_binarised.flatten() #method flatten digunakan utk mengkonversikan array multi dimensi mnjdi array dimensi tunggal \n",
    "jk_binarised"
   ]
  },
  {
   "cell_type": "code",
   "execution_count": 6,
   "id": "e7a54e0f",
   "metadata": {},
   "outputs": [
    {
     "name": "stdout",
     "output_type": "stream",
     "text": [
      "X_train_transposed:\n",
      "[[155 163 170 180 190 165 175 185 158]\n",
      " [0 0 0 0 1 1 1 1 1]]\n",
      "\n",
      "X_train:\n",
      "[[155 0]\n",
      " [163 0]\n",
      " [170 0]\n",
      " [180 0]\n",
      " [190 1]\n",
      " [165 1]\n",
      " [175 1]\n",
      " [185 1]\n",
      " [158 1]]\n"
     ]
    }
   ],
   "source": [
    "X_train_transposed[1] = jk_binarised\n",
    "X_train = X_train_transposed.transpose()\n",
    "\n",
    "print(f'X_train_transposed:\\n{X_train_transposed}\\n')\n",
    "print(f'X_train:\\n{X_train}')"
   ]
  },
  {
   "cell_type": "code",
   "execution_count": 7,
   "id": "60a389f4",
   "metadata": {},
   "outputs": [
    {
     "data": {
      "text/plain": [
       "KNeighborsRegressor(n_neighbors=3)"
      ]
     },
     "execution_count": 7,
     "metadata": {},
     "output_type": "execute_result"
    }
   ],
   "source": [
    "#Training KNN Regression Model\n",
    "\n",
    "from sklearn.neighbors import KNeighborsRegressor\n",
    "\n",
    "K = 3\n",
    "model = KNeighborsRegressor(n_neighbors=K)\n",
    "model.fit(X_train, y_train)"
   ]
  },
  {
   "cell_type": "code",
   "execution_count": 10,
   "id": "2b1bcb9b",
   "metadata": {},
   "outputs": [
    {
     "data": {
      "text/plain": [
       "array([[168,   1]])"
      ]
     },
     "execution_count": 10,
     "metadata": {},
     "output_type": "execute_result"
    }
   ],
   "source": [
    "#Prediksi Berat Badan\n",
    "\n",
    "X_new = np.array([[168, 1]])\n",
    "X_new"
   ]
  },
  {
   "cell_type": "code",
   "execution_count": 11,
   "id": "106f850a",
   "metadata": {},
   "outputs": [
    {
     "data": {
      "text/plain": [
       "array([57.66666667])"
      ]
     },
     "execution_count": 11,
     "metadata": {},
     "output_type": "execute_result"
    }
   ],
   "source": [
    "y_pred = model.predict(X_new)\n",
    "y_pred"
   ]
  },
  {
   "cell_type": "code",
   "execution_count": 14,
   "id": "5f5a3933",
   "metadata": {},
   "outputs": [
    {
     "name": "stdout",
     "output_type": "stream",
     "text": [
      "X_test:\n",
      "[[170   0]\n",
      " [178   1]\n",
      " [165   0]\n",
      " [182   1]]\n",
      "\n",
      "y_test: [60 85 55 70]\n"
     ]
    }
   ],
   "source": [
    "#Evaluasi KNN Regression Model\n",
    "\n",
    "X_test = np.array([[170, 0], [178, 1], [165, 0], [182, 1]])  #Features\n",
    "y_test = np.array([60, 85, 55, 70])                          #Target\n",
    "\n",
    "print(f'X_test:\\n{X_test}\\n')\n",
    "print(f'y_test: {y_test}')"
   ]
  },
  {
   "cell_type": "code",
   "execution_count": 15,
   "id": "4a045dec",
   "metadata": {},
   "outputs": [
    {
     "data": {
      "text/plain": [
       "array([59.33333333, 68.33333333, 57.66666667, 68.33333333])"
      ]
     },
     "execution_count": 15,
     "metadata": {},
     "output_type": "execute_result"
    }
   ],
   "source": [
    "y_pred = model.predict(X_test)\n",
    "y_pred"
   ]
  },
  {
   "cell_type": "code",
   "execution_count": 16,
   "id": "6827ea08",
   "metadata": {},
   "outputs": [
    {
     "name": "stdout",
     "output_type": "stream",
     "text": [
      "R-squared: 0.45121693121693096\n"
     ]
    }
   ],
   "source": [
    "#Coefficient of Determination\n",
    "\n",
    "from sklearn.metrics import r2_score\n",
    "\n",
    "r_squared = r2_score(y_test, y_pred)\n",
    "\n",
    "print(f'R-squared: {r_squared}') #R-Square mendekati nilai 1 akan menjadi lebih baik"
   ]
  },
  {
   "cell_type": "code",
   "execution_count": 17,
   "id": "40577888",
   "metadata": {},
   "outputs": [
    {
     "name": "stdout",
     "output_type": "stream",
     "text": [
      "MAE: 5.416666666666668\n"
     ]
    }
   ],
   "source": [
    "#Mean Absolute Error (MAE) atau Mean Absolute Deviation (MAD)\n",
    "\n",
    "from sklearn.metrics import mean_absolute_error\n",
    "\n",
    "MAE = mean_absolute_error(y_test, y_pred)\n",
    "\n",
    "print(f'MAE: {MAE}')  #Semakin kecil nilai MAE-nya akan mengidenkasikan identitas model yang baik"
   ]
  },
  {
   "cell_type": "code",
   "execution_count": 18,
   "id": "d9af7f11",
   "metadata": {},
   "outputs": [
    {
     "name": "stdout",
     "output_type": "stream",
     "text": [
      "MSE: 72.02777777777781\n"
     ]
    }
   ],
   "source": [
    "from sklearn.metrics import mean_squared_error\n",
    "\n",
    "MSE = mean_squared_error(y_test, y_pred)\n",
    "\n",
    "print(f'MSE: {MSE}')    #Nilai MSE akan selalu lebih besar dibandingkan MAE"
   ]
  },
  {
   "cell_type": "code",
   "execution_count": 19,
   "id": "b8ac048a",
   "metadata": {},
   "outputs": [
    {
     "data": {
      "text/plain": [
       "[130.0, 30.01666203960727]"
      ]
     },
     "execution_count": 19,
     "metadata": {},
     "output_type": "execute_result"
    }
   ],
   "source": [
    "#Permasalahan Scaling Pada Features\n",
    "\n",
    "from scipy.spatial.distance import euclidean\n",
    "\n",
    "# tinggi dalam milimeter\n",
    "X_train = np.array([[1750, 1], [1650, 0]])  #Features utk training set\n",
    "X_new = np.array([[1620, 1]])               #Features utk data point yg diprediksi\n",
    "\n",
    "[euclidean(X_new[0], d) for d in X_train]"
   ]
  },
  {
   "cell_type": "code",
   "execution_count": 20,
   "id": "5310aaf7",
   "metadata": {},
   "outputs": [
    {
     "data": {
      "text/plain": [
       "[0.1299999999999999, 1.0004498987955368]"
      ]
     },
     "execution_count": 20,
     "metadata": {},
     "output_type": "execute_result"
    }
   ],
   "source": [
    "# tinggi dalam meter\n",
    "\n",
    "X_train = np.array([[1.75, 1], [1.65, 0]])\n",
    "X_new = np.array([[1.62, 1]])\n",
    "\n",
    "[euclidean(X_new[0], d) for d in X_train]"
   ]
  },
  {
   "cell_type": "code",
   "execution_count": 21,
   "id": "8aeeb8fe",
   "metadata": {},
   "outputs": [],
   "source": [
    "# Menerapkan Standard Scaler (Standard Score atau Z-Score)\n",
    "\n",
    "from sklearn.preprocessing import StandardScaler\n",
    "\n",
    "ss = StandardScaler()"
   ]
  },
  {
   "cell_type": "code",
   "execution_count": 24,
   "id": "5b7795cb",
   "metadata": {},
   "outputs": [
    {
     "name": "stdout",
     "output_type": "stream",
     "text": [
      "X_train_scaled:\n",
      "[[ 1.  1.]\n",
      " [-1. -1.]]\n",
      "\n",
      "X_new_scaled: [[-1.6  1. ]]\n",
      "\n",
      "jarak: [2.6, 2.08806130178211]\n"
     ]
    }
   ],
   "source": [
    "# tinggi dalam milimeter\n",
    "\n",
    "X_train = np.array([[1750, 1], [1650, 0]])\n",
    "X_train_scaled = ss.fit_transform(X_train)\n",
    "print(f'X_train_scaled:\\n{X_train_scaled}\\n')\n",
    "\n",
    "X_new = np.array([[1620, 1]])\n",
    "X_new_scaled = ss.transform(X_new)\n",
    "print(f'X_new_scaled: {X_new_scaled}\\n')\n",
    "\n",
    "jarak = [euclidean(X_new_scaled[0], d) for d in X_train_scaled]\n",
    "print(f'jarak: {jarak}')"
   ]
  },
  {
   "cell_type": "code",
   "execution_count": 25,
   "id": "63125116",
   "metadata": {},
   "outputs": [
    {
     "name": "stdout",
     "output_type": "stream",
     "text": [
      "X_train_scaled:\n",
      "[[ 1.  1.]\n",
      " [-1. -1.]]\n",
      "\n",
      "X_new_scaled: [[-1.6  1. ]]\n",
      "\n",
      "jarak: [2.5999999999999956, 2.088061301782109]\n"
     ]
    }
   ],
   "source": [
    "# tinggi dalam meter\n",
    "\n",
    "X_train = np.array([[1.75, 1], [1.65, 0]])\n",
    "X_train_scaled = ss.fit_transform(X_train)\n",
    "print(f'X_train_scaled:\\n{X_train_scaled}\\n')\n",
    "\n",
    "X_new = np.array([[1.62, 1]])\n",
    "X_new_scaled = ss.transform(X_new)\n",
    "print(f'X_new_scaled: {X_new_scaled}\\n')\n",
    "\n",
    "jarak = [euclidean(X_new_scaled[0], d) for d in X_train_scaled]\n",
    "print(f'jarak: {jarak}')"
   ]
  },
  {
   "cell_type": "code",
   "execution_count": 27,
   "id": "c1da9a82",
   "metadata": {},
   "outputs": [],
   "source": [
    "#Menerapkan Features Scaling pada KNN\n",
    "\n",
    "# Training set\n",
    "X_train = np.array([[155, 0], [163, 0] ,[170, 0] ,[180, 0] ,[190, 1] ,[165, 1] , [175, 1], [185, 1],  [158, 1]])\n",
    "y_train = np.array([40, 55, 70, 80, 35, 48, 60, 65, 50])\n",
    "\n",
    "# Test Set\n",
    "X_test = np.array([[170, 0], [178, 1], [165, 0], [182, 1]])\n",
    "y_test = np.array([60, 85, 55, 70])   "
   ]
  },
  {
   "cell_type": "code",
   "execution_count": 28,
   "id": "fe0d8aca",
   "metadata": {},
   "outputs": [
    {
     "name": "stdout",
     "output_type": "stream",
     "text": [
      "X_train_scaled:\n",
      "[[-1.41700832 -1.11803399]\n",
      " [-0.7182097  -1.11803399]\n",
      " [-0.1067609  -1.11803399]\n",
      " [ 0.76673738 -1.11803399]\n",
      " [ 1.64023566  0.89442719]\n",
      " [-0.54351004  0.89442719]\n",
      " [ 0.32998824  0.89442719]\n",
      " [ 1.20348652  0.89442719]\n",
      " [-1.15495884  0.89442719]]\n",
      "\n",
      "X_test_scaled:\n",
      "[[-0.1067609  -1.11803399]\n",
      " [ 0.59203772  0.89442719]\n",
      " [-0.54351004 -1.11803399]\n",
      " [ 0.94143704  0.89442719]]\n",
      "\n"
     ]
    }
   ],
   "source": [
    "# Features Scaling (Standard Scaler)\n",
    "\n",
    "X_train_scaled = ss.fit_transform(X_train)\n",
    "X_test_scaled = ss.transform(X_test)\n",
    "\n",
    "print(f'X_train_scaled:\\n{X_train_scaled}\\n')\n",
    "print(f'X_test_scaled:\\n{X_test_scaled}\\n')"
   ]
  },
  {
   "cell_type": "code",
   "execution_count": 31,
   "id": "0f63cb47",
   "metadata": {},
   "outputs": [
    {
     "name": "stdout",
     "output_type": "stream",
     "text": [
      "MAE: 14.166666666666664\n",
      "MSE: 337.4999999999999\n"
     ]
    }
   ],
   "source": [
    "# Training & Evaluasi Model\n",
    "\n",
    "model.fit(X_train_scaled, y_train)\n",
    "y_pred = model.predict(X_test_scaled)\n",
    "\n",
    "MAE = mean_absolute_error(y_test, y_pred)\n",
    "MSE = mean_squared_error(y_test, y_pred)\n",
    "\n",
    "print(f'MAE: {MAE}')\n",
    "print(f'MSE: {MSE}')"
   ]
  },
  {
   "cell_type": "code",
   "execution_count": null,
   "id": "d998db0a",
   "metadata": {},
   "outputs": [],
   "source": []
  }
 ],
 "metadata": {
  "kernelspec": {
   "display_name": "Python 3",
   "language": "python",
   "name": "python3"
  },
  "language_info": {
   "codemirror_mode": {
    "name": "ipython",
    "version": 3
   },
   "file_extension": ".py",
   "mimetype": "text/x-python",
   "name": "python",
   "nbconvert_exporter": "python",
   "pygments_lexer": "ipython3",
   "version": "3.8.8"
  }
 },
 "nbformat": 4,
 "nbformat_minor": 5
}
