{
 "cells": [
  {
   "cell_type": "code",
   "execution_count": 1,
   "id": "69394b6e",
   "metadata": {},
   "outputs": [],
   "source": [
    "#Load Sample Dataset: Iris Dataset\n",
    "\n",
    "from sklearn.datasets import load_iris\n",
    "\n",
    "iris = load_iris()\n",
    "\n",
    "X = iris.data\n",
    "y = iris.target"
   ]
  },
  {
   "cell_type": "code",
   "execution_count": 2,
   "id": "12e632f2",
   "metadata": {},
   "outputs": [],
   "source": [
    "#Splitting Dataset: Training & Testing Set\n",
    "\n",
    "from sklearn.model_selection import train_test_split\n",
    "\n",
    "X_train, X_test, y_train, y_test = train_test_split(X,\n",
    "                                                    y,\n",
    "                                                    test_size=0.4,     #Ukuran testing setnya\n",
    "                                                    random_state=1)    #Proses pengacakan"
   ]
  },
  {
   "cell_type": "code",
   "execution_count": 3,
   "id": "320785b5",
   "metadata": {},
   "outputs": [
    {
     "data": {
      "text/plain": [
       "KNeighborsClassifier(n_neighbors=3)"
      ]
     },
     "execution_count": 3,
     "metadata": {},
     "output_type": "execute_result"
    }
   ],
   "source": [
    "#Training Model\n",
    "\n",
    "#Method fit() digunakan untuk melakukan training model\n",
    "#Method predict() digunakan untuk melakukan estimasi/prediksi dengan memanfaatkan trained model\n",
    "\n",
    "from sklearn.neighbors import KNeighborsClassifier\n",
    "\n",
    "model = KNeighborsClassifier(n_neighbors=3)  #Parameter n_neighbors dibutuhkan karena objek model yang dibentuk berasal dari KNeighborsClassifier\n",
    "model.fit(X_train, y_train)                  #Objek model ini akan ditraining dengan menggunakan method fit"
   ]
  },
  {
   "cell_type": "code",
   "execution_count": 4,
   "id": "84ad1f81",
   "metadata": {},
   "outputs": [
    {
     "name": "stdout",
     "output_type": "stream",
     "text": [
      "Accuracy: 0.9833333333333333\n"
     ]
    }
   ],
   "source": [
    "#Evaluasi Model\n",
    "\n",
    "from sklearn.metrics import accuracy_score    #Menggunakan accuracy_score sebagai metriksnya\n",
    "\n",
    "y_pred = model.predict(X_test)\n",
    "acc = accuracy_score(y_test, y_pred)\n",
    "print(f'Accuracy: {acc}')"
   ]
  },
  {
   "cell_type": "code",
   "execution_count": 5,
   "id": "ef96ab36",
   "metadata": {},
   "outputs": [
    {
     "data": {
      "text/plain": [
       "array([2, 2])"
      ]
     },
     "execution_count": 5,
     "metadata": {},
     "output_type": "execute_result"
    }
   ],
   "source": [
    "#Pemanfaatan Trained Model\n",
    "\n",
    "data_baru = [[7, 6, 4, 3],\n",
    "             [3, 5, 4, 6]]\n",
    "\n",
    "preds = model.predict(data_baru) #Memprediksi terhadap data baru\n",
    "preds"
   ]
  },
  {
   "cell_type": "code",
   "execution_count": 6,
   "id": "4ba415d9",
   "metadata": {},
   "outputs": [
    {
     "name": "stdout",
     "output_type": "stream",
     "text": [
      "Hasil Prediksi: ['virginica', 'virginica']\n"
     ]
    }
   ],
   "source": [
    "pred_species = [iris.target_names[p] for p in preds]\n",
    "print(f'Hasil Prediksi: {pred_species}')"
   ]
  },
  {
   "cell_type": "code",
   "execution_count": 7,
   "id": "c99fc9d1",
   "metadata": {},
   "outputs": [
    {
     "data": {
      "text/plain": [
       "['iris_classifier_knn.joblib']"
      ]
     },
     "execution_count": 7,
     "metadata": {},
     "output_type": "execute_result"
    }
   ],
   "source": [
    "#Dumping Model Machine Learning menjadi file joblib\n",
    "\n",
    "import joblib   #Terlebih dahulu mengimport joblib\n",
    "\n",
    "joblib.dump(model, 'iris_classifier_knn.joblib') #membutuhkan 2 parameter, pertama train model yang kita dump dan kedua nama file joblib nya  "
   ]
  },
  {
   "cell_type": "code",
   "execution_count": 9,
   "id": "cfc89a18",
   "metadata": {},
   "outputs": [],
   "source": [
    "#Loading Model Machine Learning dari file joblib\n",
    "\n",
    "production_model = joblib.load('iris_classifier_knn.joblib')"
   ]
  },
  {
   "cell_type": "code",
   "execution_count": null,
   "id": "71f09cc6",
   "metadata": {},
   "outputs": [],
   "source": []
  }
 ],
 "metadata": {
  "kernelspec": {
   "display_name": "Python 3",
   "language": "python",
   "name": "python3"
  },
  "language_info": {
   "codemirror_mode": {
    "name": "ipython",
    "version": 3
   },
   "file_extension": ".py",
   "mimetype": "text/x-python",
   "name": "python",
   "nbconvert_exporter": "python",
   "pygments_lexer": "ipython3",
   "version": "3.8.8"
  }
 },
 "nbformat": 4,
 "nbformat_minor": 5
}
