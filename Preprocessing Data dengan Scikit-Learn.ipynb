{
 "cells": [
  {
   "cell_type": "code",
   "execution_count": 1,
   "id": "f5637bf2",
   "metadata": {},
   "outputs": [
    {
     "data": {
      "text/plain": [
       "array([[ 2.3, -1.7,  5.8],\n",
       "       [-1.9,  2.3,  3.8],\n",
       "       [ 0.2, -7.4,  5.6],\n",
       "       [ 5.3,  2.5, -5.4]])"
      ]
     },
     "execution_count": 1,
     "metadata": {},
     "output_type": "execute_result"
    }
   ],
   "source": [
    "#Sample Data\n",
    "\n",
    "import numpy as np\n",
    "from sklearn import preprocessing\n",
    "\n",
    "sample_data = np.array([[2.3, -1.7, 5.8],\n",
    "                        [-1.9, 2.3, 3.8],\n",
    "                        [0.2, -7.4, 5.6],\n",
    "                        [5.3, 2.5, -5.4]])\n",
    "\n",
    "sample_data"
   ]
  },
  {
   "cell_type": "code",
   "execution_count": 2,
   "id": "1430ddcc",
   "metadata": {},
   "outputs": [
    {
     "data": {
      "text/plain": [
       "(4, 3)"
      ]
     },
     "execution_count": 2,
     "metadata": {},
     "output_type": "execute_result"
    }
   ],
   "source": [
    "sample_data.shape   #Untuk mengetahui jumlah kolom dan baris"
   ]
  },
  {
   "cell_type": "code",
   "execution_count": 3,
   "id": "e1ce08c5",
   "metadata": {},
   "outputs": [
    {
     "data": {
      "text/plain": [
       "array([[ 2.3, -1.7,  5.8],\n",
       "       [-1.9,  2.3,  3.8],\n",
       "       [ 0.2, -7.4,  5.6],\n",
       "       [ 5.3,  2.5, -5.4]])"
      ]
     },
     "execution_count": 3,
     "metadata": {},
     "output_type": "execute_result"
    }
   ],
   "source": [
    "#Teknik Pertama: Binarisation\n",
    "\n",
    "sample_data"
   ]
  },
  {
   "cell_type": "code",
   "execution_count": 6,
   "id": "eb3b59cb",
   "metadata": {},
   "outputs": [
    {
     "data": {
      "text/plain": [
       "array([[1., 0., 1.],\n",
       "       [0., 1., 1.],\n",
       "       [0., 0., 1.],\n",
       "       [1., 1., 0.]])"
      ]
     },
     "execution_count": 6,
     "metadata": {},
     "output_type": "execute_result"
    }
   ],
   "source": [
    "#Jika lebih besar dari thresholdnya akan ditransformasikan menjadi 1 jika kurang dari 0.5 akan ditransformasikan menjadi nilai 0\n",
    "\n",
    "preprocessor = preprocessing.Binarizer(threshold=0.5)  #Membentuk objek Binarizernya\n",
    "binarised_data = preprocessor.transform(sample_data)\n",
    "binarised_data"
   ]
  },
  {
   "cell_type": "code",
   "execution_count": 7,
   "id": "60d29549",
   "metadata": {},
   "outputs": [
    {
     "data": {
      "text/plain": [
       "array([[ 2.3, -1.7,  5.8],\n",
       "       [-1.9,  2.3,  3.8],\n",
       "       [ 0.2, -7.4,  5.6],\n",
       "       [ 5.3,  2.5, -5.4]])"
      ]
     },
     "execution_count": 7,
     "metadata": {},
     "output_type": "execute_result"
    }
   ],
   "source": [
    "#Teknik 2: Scaling\n",
    "\n",
    "sample_data"
   ]
  },
  {
   "cell_type": "code",
   "execution_count": 8,
   "id": "2ce2edb3",
   "metadata": {},
   "outputs": [
    {
     "data": {
      "text/plain": [
       "array([[0.58333333, 0.57575758, 1.        ],\n",
       "       [0.        , 0.97979798, 0.82142857],\n",
       "       [0.29166667, 0.        , 0.98214286],\n",
       "       [1.        , 1.        , 0.        ]])"
      ]
     },
     "execution_count": 8,
     "metadata": {},
     "output_type": "execute_result"
    }
   ],
   "source": [
    "#Proses MinMaxScaler ini digunakan untuk mengubah skala nilai terkecil dan terbesar dari dataset yang dimiliki ke skala tertentu\n",
    "\n",
    "preprocessor = preprocessing.MinMaxScaler(feature_range=(0, 1)) #Parameter feature_range membutuhkan data bertipe tuple\n",
    "preprocessor.fit(sample_data)\n",
    "scaled_data = preprocessor.transform(sample_data)\n",
    "scaled_data"
   ]
  },
  {
   "cell_type": "code",
   "execution_count": 9,
   "id": "44ef856a",
   "metadata": {},
   "outputs": [
    {
     "data": {
      "text/plain": [
       "array([[0.58333333, 0.57575758, 1.        ],\n",
       "       [0.        , 0.97979798, 0.82142857],\n",
       "       [0.29166667, 0.        , 0.98214286],\n",
       "       [1.        , 1.        , 0.        ]])"
      ]
     },
     "execution_count": 9,
     "metadata": {},
     "output_type": "execute_result"
    }
   ],
   "source": [
    "scaled_data = preprocessor.fit_transform(sample_data)\n",
    "scaled_data"
   ]
  },
  {
   "cell_type": "code",
   "execution_count": 10,
   "id": "2bc9b9cd",
   "metadata": {},
   "outputs": [
    {
     "data": {
      "text/plain": [
       "array([[ 2.3, -1.7,  5.8],\n",
       "       [-1.9,  2.3,  3.8],\n",
       "       [ 0.2, -7.4,  5.6],\n",
       "       [ 5.3,  2.5, -5.4]])"
      ]
     },
     "execution_count": 10,
     "metadata": {},
     "output_type": "execute_result"
    }
   ],
   "source": [
    "#Teknik 3: Normalisasi, L1:Normalisation:Least Absolute Deviations\n",
    "\n",
    "sample_data"
   ]
  },
  {
   "cell_type": "code",
   "execution_count": 11,
   "id": "3b45880a",
   "metadata": {},
   "outputs": [
    {
     "data": {
      "text/plain": [
       "array([[ 0.23469388, -0.17346939,  0.59183673],\n",
       "       [-0.2375    ,  0.2875    ,  0.475     ],\n",
       "       [ 0.01515152, -0.56060606,  0.42424242],\n",
       "       [ 0.40151515,  0.18939394, -0.40909091]])"
      ]
     },
     "execution_count": 11,
     "metadata": {},
     "output_type": "execute_result"
    }
   ],
   "source": [
    "L1_normalised_data = preprocessing.normalize(sample_data, norm='l1') #parameter norm diberi string l1, normalisasi l1 ini akan berasosiasi dengan normalisasi yang menerapkan Least Absolute Deviations   \n",
    "L1_normalised_data"
   ]
  },
  {
   "cell_type": "code",
   "execution_count": 12,
   "id": "320d31fc",
   "metadata": {},
   "outputs": [
    {
     "data": {
      "text/plain": [
       "array([[ 2.3, -1.7,  5.8],\n",
       "       [-1.9,  2.3,  3.8],\n",
       "       [ 0.2, -7.4,  5.6],\n",
       "       [ 5.3,  2.5, -5.4]])"
      ]
     },
     "execution_count": 12,
     "metadata": {},
     "output_type": "execute_result"
    }
   ],
   "source": [
    "#L2 Normalisation: Least Squares\n",
    "\n",
    "sample_data"
   ]
  },
  {
   "cell_type": "code",
   "execution_count": 13,
   "id": "e94d4560",
   "metadata": {},
   "outputs": [
    {
     "data": {
      "text/plain": [
       "array([[ 0.35566065, -0.26287961,  0.89688339],\n",
       "       [-0.39328119,  0.47607723,  0.78656238],\n",
       "       [ 0.02154652, -0.79722127,  0.60330258],\n",
       "       [ 0.66510315,  0.3137279 , -0.67765227]])"
      ]
     },
     "execution_count": 13,
     "metadata": {},
     "output_type": "execute_result"
    }
   ],
   "source": [
    "L2_normalised_data = preprocessing.normalize(sample_data, norm='l2') #parameter norm diberi string l2, normalisasi l2 ini akan berasosiasi dengan teknik normalisasi Least Squares \n",
    "L2_normalised_data"
   ]
  },
  {
   "cell_type": "code",
   "execution_count": null,
   "id": "3671686f",
   "metadata": {},
   "outputs": [],
   "source": []
  }
 ],
 "metadata": {
  "kernelspec": {
   "display_name": "Python 3",
   "language": "python",
   "name": "python3"
  },
  "language_info": {
   "codemirror_mode": {
    "name": "ipython",
    "version": 3
   },
   "file_extension": ".py",
   "mimetype": "text/x-python",
   "name": "python",
   "nbconvert_exporter": "python",
   "pygments_lexer": "ipython3",
   "version": "3.8.8"
  }
 },
 "nbformat": 4,
 "nbformat_minor": 5
}
