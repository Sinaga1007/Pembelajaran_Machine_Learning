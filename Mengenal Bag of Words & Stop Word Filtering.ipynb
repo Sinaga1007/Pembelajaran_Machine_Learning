{
 "cells": [
  {
   "cell_type": "code",
   "execution_count": 1,
   "id": "7bc5277e",
   "metadata": {},
   "outputs": [
    {
     "data": {
      "text/plain": [
       "['Windows has been around since the mid-1990s.',\n",
       " 'Windows distribution include the windows kernel.',\n",
       " 'Windows is one of the most prominent open-source software.']"
      ]
     },
     "execution_count": 1,
     "metadata": {},
     "output_type": "execute_result"
    }
   ],
   "source": [
    "# Dataset\n",
    "\n",
    "corpus = [\n",
    "    'Windows has been around since the mid-1990s.',\n",
    "    'Windows distribution include the windows kernel.',\n",
    "    'Windows is one of the most prominent open-source software.'\n",
    "]\n",
    "\n",
    "corpus"
   ]
  },
  {
   "cell_type": "code",
   "execution_count": 2,
   "id": "7128e595",
   "metadata": {},
   "outputs": [
    {
     "data": {
      "text/plain": [
       "matrix([[1, 1, 1, 0, 1, 0, 0, 0, 1, 0, 0, 0, 0, 0, 1, 0, 0, 1, 1],\n",
       "        [0, 0, 0, 1, 0, 1, 0, 1, 0, 0, 0, 0, 0, 0, 0, 0, 0, 1, 2],\n",
       "        [0, 0, 0, 0, 0, 0, 1, 0, 0, 1, 1, 1, 1, 1, 0, 1, 1, 1, 1]],\n",
       "       dtype=int64)"
      ]
     },
     "execution_count": 2,
     "metadata": {},
     "output_type": "execute_result"
    }
   ],
   "source": [
    "# Bag of Words model dengan CountVectorizer\n",
    "\n",
    "from sklearn.feature_extraction.text import CountVectorizer\n",
    "\n",
    "vectorizer = CountVectorizer()\n",
    "vectorized_X = vectorizer.fit_transform(corpus).todense() #objek vectorizer utk menerapkan method fit_transform trhdp corpus dataset, hasilnya akan dikonversikan ke dlm suatu array \n",
    "vectorized_X\n",
    "\n",
    "# Method todense ini akan mengkonversikan hasil fit_transform dari objek vectorizer menjadi array 2 dimensi"
   ]
  },
  {
   "cell_type": "code",
   "execution_count": 3,
   "id": "de40f0da",
   "metadata": {},
   "outputs": [
    {
     "data": {
      "text/plain": [
       "['1990s',\n",
       " 'around',\n",
       " 'been',\n",
       " 'distribution',\n",
       " 'has',\n",
       " 'include',\n",
       " 'is',\n",
       " 'kernel',\n",
       " 'mid',\n",
       " 'most',\n",
       " 'of',\n",
       " 'one',\n",
       " 'open',\n",
       " 'prominent',\n",
       " 'since',\n",
       " 'software',\n",
       " 'source',\n",
       " 'the',\n",
       " 'windows']"
      ]
     },
     "execution_count": 3,
     "metadata": {},
     "output_type": "execute_result"
    }
   ],
   "source": [
    "vectorizer.get_feature_names()\n",
    "\n",
    "# Nilai pada array tidak hanya nol dan satu, melainkan setiap nilai tersebut merepresentasikan jumlah kemunculan token/kata tertentu pada kalimat"
   ]
  },
  {
   "cell_type": "code",
   "execution_count": 6,
   "id": "30487ede",
   "metadata": {},
   "outputs": [
    {
     "name": "stdout",
     "output_type": "stream",
     "text": [
      "Jarak dokumen 1 dan 2: [[3.16227766]]\n",
      "Jarak dokumen 1 dan 3: [[3.74165739]]\n",
      "Jarak dokumen 2 dan 3: [[3.46410162]]\n"
     ]
    }
   ],
   "source": [
    "# Euclidean Distance untuk mengukur kedekatan/jarak antar dokumen (vector)\n",
    "\n",
    "from sklearn.metrics.pairwise import euclidean_distances\n",
    "\n",
    "for i in range(len(vectorized_X)):\n",
    "    for j in range(i, len(vectorized_X)):\n",
    "        if i == j:\n",
    "            continue\n",
    "        jarak = euclidean_distances(vectorized_X[i], vectorized_X[j])\n",
    "        print(f'Jarak dokumen {i+1} dan {j+1}: {jarak}')"
   ]
  },
  {
   "cell_type": "code",
   "execution_count": 7,
   "id": "5b7a7f8e",
   "metadata": {},
   "outputs": [
    {
     "data": {
      "text/plain": [
       "['Windows has been around since the mid-1990s.',\n",
       " 'Windows distribution include the windows kernel.',\n",
       " 'Windows is one of the most prominent open-source software.']"
      ]
     },
     "execution_count": 7,
     "metadata": {},
     "output_type": "execute_result"
    }
   ],
   "source": [
    "# Stop Word Filtering pada text\n",
    "\n",
    "# Stop Word Filtering menyederhanakan representasi text dengan mengabaikan beberapa kata seperti determiners\n",
    "corpus"
   ]
  },
  {
   "cell_type": "code",
   "execution_count": 9,
   "id": "3aa0f7a8",
   "metadata": {},
   "outputs": [
    {
     "data": {
      "text/plain": [
       "matrix([[1, 0, 0, 0, 1, 0, 0, 0, 0, 1],\n",
       "        [0, 1, 1, 1, 0, 0, 0, 0, 0, 2],\n",
       "        [0, 0, 0, 0, 0, 1, 1, 1, 1, 1]], dtype=int64)"
      ]
     },
     "execution_count": 9,
     "metadata": {},
     "output_type": "execute_result"
    }
   ],
   "source": [
    "# Stop Word Filtering dengan CountVectorizer\n",
    "\n",
    "from sklearn.feature_extraction.text import CountVectorizer\n",
    "\n",
    "vectorizer = CountVectorizer(stop_words = 'english')\n",
    "vectorized_X = vectorizer.fit_transform(corpus).todense() #objek vectorizer utk menerapkan method fit_transform trhdp corpus dataset, hasilnya akan dikonversikan ke dlm suatu array \n",
    "vectorized_X"
   ]
  },
  {
   "cell_type": "code",
   "execution_count": 10,
   "id": "0a97facf",
   "metadata": {},
   "outputs": [
    {
     "data": {
      "text/plain": [
       "['1990s',\n",
       " 'distribution',\n",
       " 'include',\n",
       " 'kernel',\n",
       " 'mid',\n",
       " 'open',\n",
       " 'prominent',\n",
       " 'software',\n",
       " 'source',\n",
       " 'windows']"
      ]
     },
     "execution_count": 10,
     "metadata": {},
     "output_type": "execute_result"
    }
   ],
   "source": [
    "vectorizer.get_feature_names()\n",
    "\n",
    "# Nilai pada array tidak hanya nol dan satu, melainkan setiap nilai tersebut merepresentasikan jumlah kemunculan token/kata tertentu pada kalimat"
   ]
  },
  {
   "cell_type": "code",
   "execution_count": null,
   "id": "043e1644",
   "metadata": {},
   "outputs": [],
   "source": []
  }
 ],
 "metadata": {
  "kernelspec": {
   "display_name": "Python 3",
   "language": "python",
   "name": "python3"
  },
  "language_info": {
   "codemirror_mode": {
    "name": "ipython",
    "version": 3
   },
   "file_extension": ".py",
   "mimetype": "text/x-python",
   "name": "python",
   "nbconvert_exporter": "python",
   "pygments_lexer": "ipython3",
   "version": "3.8.8"
  }
 },
 "nbformat": 4,
 "nbformat_minor": 5
}
